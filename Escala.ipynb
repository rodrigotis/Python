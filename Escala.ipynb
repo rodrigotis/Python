{
  "nbformat": 4,
  "nbformat_minor": 0,
  "metadata": {
    "colab": {
      "name": "Escala.ipynb",
      "provenance": [],
      "collapsed_sections": [],
      "authorship_tag": "ABX9TyM1Te3ZQyI3pUhSQ6jfCFFN",
      "include_colab_link": true
    },
    "kernelspec": {
      "name": "python3",
      "display_name": "Python 3"
    },
    "language_info": {
      "name": "python"
    }
  },
  "cells": [
    {
      "cell_type": "markdown",
      "metadata": {
        "id": "view-in-github",
        "colab_type": "text"
      },
      "source": [
        "<a href=\"https://colab.research.google.com/github/rodrigotis/Python/blob/main/Escala.ipynb\" target=\"_parent\"><img src=\"https://colab.research.google.com/assets/colab-badge.svg\" alt=\"Open In Colab\"/></a>"
      ]
    },
    {
      "cell_type": "code",
      "execution_count": 15,
      "metadata": {
        "id": "QoZIUyYN7ZDh",
        "colab": {
          "base_uri": "https://localhost:8080/"
        },
        "outputId": "1ec0382f-83bd-41e5-809b-769dcb4715a2"
      },
      "outputs": [
        {
          "output_type": "stream",
          "name": "stdout",
          "text": [
            "-=-=-=-=-=-=-=-=-=-=-=-=-=-=-=-=-=-=-=-=-=-=-=-=-=-=-=-=-=-=-=-=-=-=-=\n",
            "Escala - Turma A\n",
            "-=-=-=-=-=-=-=-=-=-=-=-=-=-=-=-=-=-=-=-=-=-=-=-=-=-=-=-=-=-=-=-=-=-=-=\n",
            "Gestor - Rogério\n",
            "Gerente - Edna\n",
            "Líderes - ['Daniel', 'Daniella', 'Kamila', 'Ettiene']\n",
            "Financeiro - Renan\n",
            "Comercial - ['Fernanda', 'Cleide', 'Kelly', 'Willy', 'Loredana']\n",
            "Atendente de Público - ['Reinaldo', 'Renato', 'Rodrigo']\n",
            "\n",
            "-=-=-=-=-=-=-=-=-=-=-=-=-=-=-=-=-=-=-=-=-=-=-=-=-=-=-=-=-=-=-=-=-=-=-=\n",
            "Escala - Turma B\n",
            "-=-=-=-=-=-=-=-=-=-=-=-=-=-=-=-=-=-=-=-=-=-=-=-=-=-=-=-=-=-=-=-=-=-=-=\n",
            "Gestor - Rogério\n",
            "Gerente - Milena\n",
            "Líderes - ['Daniel', 'Daniella', 'Kamila', 'Ettiene']\n",
            "Financeiro - Bruno\n",
            "Comercial - ['Fernanda', 'Cleide', 'Kelly', 'Willy', 'Loredana']\n",
            "Atendente de Público - ['Maiara', 'Kawany', 'Carol']\n"
          ]
        }
      ],
      "source": [
        "# Case: uma pequena empresa tem que se adequar as normas de segurança\n",
        "# durante a pandemia COVID-19.\n",
        "\n",
        "## Foi solicitado um script que crie duas escalas, que serão \n",
        "## utilizadas entre semanas alternadas.\n",
        "\n",
        "###Nota: fui informado que há um acordo alguns funcionários\n",
        "### uma espécie de programa de caronas.\n",
        "####O Financeiro Bruno dá caronas para as funcionárias Carol e Maiara\n",
        "#### neste caso, ficou acordado que, quando a escala de Bruno \n",
        "#### ocorrer, será a escala de Carol e Maiara.\n",
        "#### A gerente Edna, dá carona a Rodrigo, então a lógica deve seguir\n",
        "#### esses parametros.\n",
        "\n",
        "from random import choice\n",
        "from time import sleep\n",
        "\n",
        "# variáveis\n",
        "\n",
        "semana = 0\n",
        "\n",
        "gestor = 'Rogério' #ele estará na empresa normalmente\n",
        "gerentes = ('Milena', 'Edna') #haverá revezamento entre as gerentes\n",
        "lideres = ['Daniel', 'Daniella', 'Kamila','Ettiene'] # os lideres de setor \n",
        "#também trabalharão normalmente\n",
        "financeiros = ['Bruno', 'Renan'] # irão alternar por semana\n",
        "comercial = ['Fernanda', 'Cleide', 'Kelly', 'Willy', 'Loredana'] #equipe comercial\n",
        "# trabalha normalmente\n",
        "pub_func=['Kawany', 'Renato','Maiara','Carol','Reinaldo','Rodrigo',] #atendentes\n",
        "func_a =['Kawany', 'Renato','Reinaldo'] # escala A de atendentes\n",
        "func_b = ['Carol', 'Maiara', 'Rodrigo'] # escala b de atendentes\n",
        "#As escalas A e B se alternarão pelas semanas.\n",
        "ata = [] # Lista para designar 3 funcs para a turma de escala A\n",
        "atb = [] # Lista para designar 3 funcs para a turma de escala A\n",
        "gerente = choice(gerentes) #randomizar a escolha de gerente para a semana 0\n",
        "financeiro = choice(financeiros) #randomizar a escolha de financeiro para a semana 0\n",
        "\n",
        "turma_a = {'Gestor': 'Rogério','Gerente': gerente,'Líderes': lideres, 'Financeiro':financeiro,\n",
        "          'Comercial': comercial, 'Atendente de Público':ata} \n",
        "turma_b = {'Gestor': 'Rogério','Gerente': gerente,'Líderes': lideres, 'Financeiro':financeiro,\n",
        "           'Comercial': comercial, 'Atendente de Público':atb}\n",
        "# randomizando as escolha de gerente e financeiro\n",
        "\n",
        "if semana == 0:\n",
        "  turma_a['Gerente'] = choice(gerentes)\n",
        "  turma_a['Financeiro'] = choice(financeiros)\n",
        "  semana += 1\n",
        "# códigos para alternar a escolha das gerentes\n",
        "## devido ao \"programa de caronas\" da empresa, já inseri \n",
        "## a condição que determina a escala de Rodrigo no mesmo dia de Edna\n",
        "\n",
        "if turma_a['Gerente'] == 'Edna':\n",
        "  ata.insert(-1,'Rodrigo')\n",
        "  turma_b['Gerente'] = 'Milena'\n",
        "else:\n",
        "  turma_b['Gerente'] = 'Edna'\n",
        "  atb.insert(-1,'Rodrigo')\n",
        "# alternância entre os financeiros\n",
        "## devido ao \"programa de caronas\" da empresa, já inseri \n",
        "## a condição que determina a escala de Carol e Miara no mesmo dia\n",
        "## de Bruno\n",
        "if turma_a['Financeiro'] == 'Renan':\n",
        "  turma_b['Financeiro'] = 'Bruno'\n",
        "  atb.insert(-1,'Carol')\n",
        "  atb.insert(-1,'Maiara')\n",
        "else:\n",
        "  turma_b['Financeiro'] = 'Renan'\n",
        "  ata.insert(-1,'Carol')\n",
        "  ata.insert(-1,'Maiara')\n",
        "\n",
        "#Já com a primeira condição cumprida, segue o código para\n",
        "#preenchimento do restante dos funcionários nas escalas específicas\n",
        "## respeitando a determinação da empresa em ter 3 atendentes por escala\n",
        "if len(ata) < 3:\n",
        "  while True:\n",
        "    func = choice(func_a)\n",
        "    if func in ata:\n",
        "      func= choice(func_a)\n",
        "    else:\n",
        "      ata.insert(-1,func)\n",
        "      if len(ata) == 3:\n",
        "        break\n",
        "if len(atb) < 3:\n",
        "  while True:\n",
        "    func = choice(func_a)\n",
        "    if func in ata:\n",
        "      func = choice(func_a)\n",
        "    elif func in atb:\n",
        "      func = choice(func_a)\n",
        "    else:\n",
        "      atb.insert(-1,func)\n",
        "      if len(atb) == 3:\n",
        "        break\n",
        "\n",
        "#início da apresentação de resultados, incluindo sleep(s) para melhor \n",
        "# apresentação\n",
        "print('-='*35)\n",
        "print('Escala - Turma A')\n",
        "print('-='*35)\n",
        "for k, v in turma_a.items():\n",
        "  print(f'{k} - {v}')\n",
        "  sleep(1)\n",
        "print()\n",
        "sleep(2)\n",
        "print('-='*35)\n",
        "print('Escala - Turma B')\n",
        "print('-='*35)\n",
        "for k, v in turma_b.items():\n",
        "  print(f'{k} - {v}')\n",
        "  sleep(1)"
      ]
    },
    {
      "cell_type": "code",
      "source": [
        ""
      ],
      "metadata": {
        "id": "BU6TlPARJ847"
      },
      "execution_count": null,
      "outputs": []
    }
  ]
}